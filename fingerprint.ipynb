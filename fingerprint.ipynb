{
 "cells": [
  {
   "cell_type": "code",
   "execution_count": 3,
   "id": "815b271b",
   "metadata": {},
   "outputs": [],
   "source": [
    "from main import VoiceIdentificationPipeline\n",
    "import numpy as np"
   ]
  },
  {
   "cell_type": "code",
   "execution_count": 4,
   "id": "b0a584e1",
   "metadata": {},
   "outputs": [],
   "source": [
    "pipeline = VoiceIdentificationPipeline()"
   ]
  },
  {
   "cell_type": "code",
   "execution_count": 5,
   "id": "ef08ffd9",
   "metadata": {},
   "outputs": [
    {
     "name": "stdout",
     "output_type": "stream",
     "text": [
      "Carregando dataset TIMIT via Deeplake...\n"
     ]
    },
    {
     "name": "stderr",
     "output_type": "stream",
     "text": [
      "|"
     ]
    },
    {
     "name": "stdout",
     "output_type": "stream",
     "text": [
      "Opening dataset in read-only mode as you don't have write permissions.\n"
     ]
    },
    {
     "name": "stderr",
     "output_type": "stream",
     "text": [
      "-"
     ]
    },
    {
     "name": "stdout",
     "output_type": "stream",
     "text": [
      "This dataset can be visualized in Jupyter Notebook by ds.visualize() or at https://app.activeloop.ai/activeloop/timit-train\n",
      "\n"
     ]
    },
    {
     "name": "stderr",
     "output_type": "stream",
     "text": [
      "-"
     ]
    },
    {
     "name": "stdout",
     "output_type": "stream",
     "text": [
      "hub://activeloop/timit-train loaded successfully.\n",
      "\n",
      "Dataset carregado com sucesso!\n",
      "Número total de amostras: 4620\n",
      "Limitando a 1000 amostras para processamento\n"
     ]
    },
    {
     "name": "stderr",
     "output_type": "stream",
     "text": [
      " "
     ]
    }
   ],
   "source": [
    "dataset = pipeline.load_timit_dataset(1000)"
   ]
  },
  {
   "cell_type": "code",
   "execution_count": 12,
   "id": "73556716",
   "metadata": {},
   "outputs": [
    {
     "name": "stdout",
     "output_type": "stream",
     "text": [
      "Processando dataset e extraindo características...\n",
      "Processadas 100/100 amostras...\n",
      "Processamento concluído: 100 amostras válidas\n"
     ]
    }
   ],
   "source": [
    "features_array, labels_array = pipeline.process_dataset(dataset[:100])"
   ]
  },
  {
   "cell_type": "code",
   "execution_count": 13,
   "id": "be5ba408",
   "metadata": {},
   "outputs": [
    {
     "data": {
      "text/plain": [
       "['409',\n",
       " '409',\n",
       " '409',\n",
       " '409',\n",
       " '409',\n",
       " '409',\n",
       " '409',\n",
       " '409',\n",
       " '409',\n",
       " '409',\n",
       " '433',\n",
       " '433',\n",
       " '433',\n",
       " '433',\n",
       " '433',\n",
       " '433',\n",
       " '433',\n",
       " '433',\n",
       " '433',\n",
       " '433',\n",
       " '421',\n",
       " '421',\n",
       " '421',\n",
       " '421',\n",
       " '421',\n",
       " '421',\n",
       " '421',\n",
       " '421',\n",
       " '421',\n",
       " '421',\n",
       " '422',\n",
       " '422',\n",
       " '422',\n",
       " '422',\n",
       " '422',\n",
       " '422',\n",
       " '422',\n",
       " '422',\n",
       " '422',\n",
       " '422',\n",
       " '404',\n",
       " '404',\n",
       " '404',\n",
       " '404',\n",
       " '404',\n",
       " '404',\n",
       " '404',\n",
       " '404',\n",
       " '404',\n",
       " '404',\n",
       " '424',\n",
       " '424',\n",
       " '424',\n",
       " '424',\n",
       " '424',\n",
       " '424',\n",
       " '424',\n",
       " '424',\n",
       " '424',\n",
       " '424',\n",
       " '437',\n",
       " '437',\n",
       " '437',\n",
       " '437',\n",
       " '437',\n",
       " '437',\n",
       " '437',\n",
       " '437',\n",
       " '437',\n",
       " '437',\n",
       " '425',\n",
       " '425',\n",
       " '425',\n",
       " '425',\n",
       " '425',\n",
       " '425',\n",
       " '425',\n",
       " '425',\n",
       " '425',\n",
       " '425',\n",
       " '428',\n",
       " '428',\n",
       " '428',\n",
       " '428',\n",
       " '428',\n",
       " '428',\n",
       " '428',\n",
       " '428',\n",
       " '428',\n",
       " '428',\n",
       " '416',\n",
       " '416',\n",
       " '416',\n",
       " '416',\n",
       " '416',\n",
       " '416',\n",
       " '416',\n",
       " '416',\n",
       " '416',\n",
       " '416']"
      ]
     },
     "execution_count": 13,
     "metadata": {},
     "output_type": "execute_result"
    }
   ],
   "source": [
    "labels_array"
   ]
  },
  {
   "cell_type": "code",
   "execution_count": 35,
   "id": "afb822ff",
   "metadata": {},
   "outputs": [],
   "source": [
    "from sklearn.ensemble import RandomForestClassifier \n",
    "from sklearn.model_selection import train_test_split\n",
    "# Codifica os labels\n",
    "encoded_labels = pipeline.label_encoder.fit_transform(labels_array)\n",
    "\n",
    "# Divisão treino/teste\n",
    "X_train, X_test, y_train, y_test = train_test_split(\n",
    "    features_array, encoded_labels, test_size=0.25, random_state=42\n",
    ")\n",
    "\n",
    "# Normalização das características\n",
    "X_train_scaled = pipeline.scaler.fit_transform(X_train)\n",
    "X_test_scaled = pipeline.scaler.transform(X_test)\n",
    "model = RandomForestClassifier(n_estimators=100, random_state=42, n_jobs=-1)\n",
    "model.fit(X_train_scaled, y_train)\n",
    "        \n",
    "# Avaliação\n",
    "y_pred = model.predict(X_test_scaled)"
   ]
  },
  {
   "cell_type": "code",
   "execution_count": 36,
   "id": "0c732ecd",
   "metadata": {},
   "outputs": [],
   "source": [
    "a = set([dataset[i].speaker_ids.data()['value'][0] for i in range(len(dataset))])"
   ]
  },
  {
   "cell_type": "code",
   "execution_count": 37,
   "id": "948d8e86",
   "metadata": {},
   "outputs": [
    {
     "data": {
      "text/plain": [
       "array([7, 5, 6, 0, 0, 4, 3, 7, 8, 1, 8, 4, 6, 4, 2, 1, 6, 6, 8, 4, 5, 7,\n",
       "       3, 0, 9], dtype=int64)"
      ]
     },
     "execution_count": 37,
     "metadata": {},
     "output_type": "execute_result"
    }
   ],
   "source": [
    "y_test"
   ]
  },
  {
   "cell_type": "code",
   "execution_count": 38,
   "id": "773156f6",
   "metadata": {},
   "outputs": [
    {
     "data": {
      "text/plain": [
       "array([4, 1, 7, 1, 9, 4, 2, 9, 7, 1, 8, 1, 4, 4, 2, 5, 0, 9, 0, 3, 1, 1,\n",
       "       9, 1, 3], dtype=int64)"
      ]
     },
     "execution_count": 38,
     "metadata": {},
     "output_type": "execute_result"
    }
   ],
   "source": [
    "y_pred"
   ]
  },
  {
   "cell_type": "code",
   "execution_count": 39,
   "id": "cb517324",
   "metadata": {},
   "outputs": [
    {
     "name": "stdout",
     "output_type": "stream",
     "text": [
      "Acurácia do modelo: 0.2000\n"
     ]
    }
   ],
   "source": [
    "from sklearn.metrics import classification_report, confusion_matrix, accuracy_score\n",
    "accuracy = accuracy_score(y_test, y_pred)\n",
    "\n",
    "print(f\"Acurácia do modelo: {accuracy:.4f}\")"
   ]
  },
  {
   "cell_type": "code",
   "execution_count": null,
   "id": "38ad94ff",
   "metadata": {},
   "outputs": [],
   "source": []
  }
 ],
 "metadata": {
  "kernelspec": {
   "display_name": "teste",
   "language": "python",
   "name": "teste"
  },
  "language_info": {
   "codemirror_mode": {
    "name": "ipython",
    "version": 3
   },
   "file_extension": ".py",
   "mimetype": "text/x-python",
   "name": "python",
   "nbconvert_exporter": "python",
   "pygments_lexer": "ipython3",
   "version": "3.10.13"
  }
 },
 "nbformat": 4,
 "nbformat_minor": 5
}
