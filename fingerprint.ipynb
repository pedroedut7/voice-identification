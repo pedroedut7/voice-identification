{
 "cells": [
  {
   "cell_type": "code",
   "execution_count": 1,
   "id": "815b271b",
   "metadata": {},
   "outputs": [],
   "source": [
    "from main_new import VoiceIdentificationPipeline\n",
    "import numpy as np\n",
    "from sklearn.model_selection import train_test_split\n",
    "from sklearn.ensemble import RandomForestClassifier\n",
    "from sklearn.metrics import accuracy_score"
   ]
  },
  {
   "cell_type": "code",
   "execution_count": 2,
   "id": "b0a584e1",
   "metadata": {},
   "outputs": [],
   "source": [
    "pipeline = VoiceIdentificationPipeline(sample_rate=16000)"
   ]
  },
  {
   "cell_type": "code",
   "execution_count": 3,
   "id": "73556716",
   "metadata": {},
   "outputs": [
    {
     "name": "stdout",
     "output_type": "stream",
     "text": [
      "Diretório de extração 'cv-corpus' já existe. Pulando a extração.\n"
     ]
    }
   ],
   "source": [
    "common_voice_tar_gz = \"pt.tar\"\n",
    "dataset_base_path = pipeline.extract_common_voice_dataset(common_voice_tar_gz)"
   ]
  },
  {
   "cell_type": "code",
   "execution_count": 4,
   "id": "be5ba408",
   "metadata": {},
   "outputs": [
    {
     "name": "stdout",
     "output_type": "stream",
     "text": [
      "Metadados carregados com sucesso! Número total de amostras: 22131\n",
      "Número de amostras válidas após limpeza inicial: 22131\n",
      "Número de locutores únicos após limpeza inicial: 319\n",
      "\n",
      "Aplicando filtragem: Mantendo locutores com pelo menos 80 amostras...\n",
      "Aplicando subamostragem: Limitando a 100 amostras por locutor.\n",
      "Número final de amostras após filtragem: 2146\n",
      "Número final de locutores únicos: 22\n",
      "Novas classes (locutores) e suas contagens:\n",
      "client_id\n",
      "9d91497cb25399ad6cf6a4d88548fa84ee3c3687363015eb7b12d269cf363dec73496b009c86266b8b7dda93ff257139bab1ddf599719f46ce5cee865a6d80c1    100\n",
      "261bca862597269f97d1fd29b83962289b6f0bf276dc81d17bc992af4c86c92597be42aab409ba98400aaf045a99240a44d2af249ed7f883a7902e9343505fa5    100\n",
      "c4b22e1d51a2dd8996727f70ddece23ef448164a1a4a5507e4608173685448b5e4821c1b5010ef68018093b01651ee6480c5573e00d5dab17098d5dbcf0ead0d    100\n",
      "7d20201a44583f681d3e6f97849ee7d16e50e61c9ac3443892ac935294b48dbc047c7f17ae03a941cdf8e1735e2f3dad517e88e8acb26642c8c03bba2ac2385e    100\n",
      "328e68bbd38b995b7123279be78895e7133450950d777af0f52cc516bc168d85c234c693187311f5d7e030f934b40069ba54295b541046c77b0a79057616e502    100\n",
      "Name: count, dtype: int64\n"
     ]
    }
   ],
   "source": [
    "df_metadata = pipeline.load_common_voice_dataset(\n",
    "    dataset_base_path, \n",
    "    max_samples=None, # Limite o carregamento inicial\n",
    "    split_file='validated.tsv',\n",
    "    min_samples_per_speaker=80,\n",
    "    max_samples_per_speaker=100 # Passa o novo parâmetro\n",
    ")"
   ]
  },
  {
   "cell_type": "code",
   "execution_count": 5,
   "id": "afb822ff",
   "metadata": {},
   "outputs": [
    {
     "name": "stdout",
     "output_type": "stream",
     "text": [
      "Processadas 500/2146 amostras...\n",
      "Processadas 1000/2146 amostras...\n",
      "Processadas 1500/2146 amostras...\n",
      "Processadas 2000/2146 amostras...\n",
      "\n",
      "Processamento concluído: 2146 amostras válidas\n"
     ]
    }
   ],
   "source": [
    "features, labels = pipeline.process_dataset(df_metadata, dataset_base_path)\n",
    "pipeline.features = features\n",
    "pipeline.labels = labels"
   ]
  },
  {
   "cell_type": "code",
   "execution_count": 6,
   "id": "0c732ecd",
   "metadata": {},
   "outputs": [],
   "source": [
    "unique_labels = np.unique(labels)\n",
    "encoded_labels = pipeline.label_encoder.fit_transform(labels)\n",
    "\n",
    "# Divisão treino/teste\n",
    "# Stratify é crucial para manter a proporção das classes (locutores) em treino e teste\n",
    "X_train, X_test, y_train, y_test = train_test_split(\n",
    "    features, encoded_labels, test_size=0.2, random_state=42, stratify=encoded_labels\n",
    ")"
   ]
  },
  {
   "cell_type": "code",
   "execution_count": 7,
   "id": "d8c6d4c4",
   "metadata": {},
   "outputs": [
    {
     "data": {
      "text/html": [
       "<style>#sk-container-id-1 {color: black;}#sk-container-id-1 pre{padding: 0;}#sk-container-id-1 div.sk-toggleable {background-color: white;}#sk-container-id-1 label.sk-toggleable__label {cursor: pointer;display: block;width: 100%;margin-bottom: 0;padding: 0.3em;box-sizing: border-box;text-align: center;}#sk-container-id-1 label.sk-toggleable__label-arrow:before {content: \"▸\";float: left;margin-right: 0.25em;color: #696969;}#sk-container-id-1 label.sk-toggleable__label-arrow:hover:before {color: black;}#sk-container-id-1 div.sk-estimator:hover label.sk-toggleable__label-arrow:before {color: black;}#sk-container-id-1 div.sk-toggleable__content {max-height: 0;max-width: 0;overflow: hidden;text-align: left;background-color: #f0f8ff;}#sk-container-id-1 div.sk-toggleable__content pre {margin: 0.2em;color: black;border-radius: 0.25em;background-color: #f0f8ff;}#sk-container-id-1 input.sk-toggleable__control:checked~div.sk-toggleable__content {max-height: 200px;max-width: 100%;overflow: auto;}#sk-container-id-1 input.sk-toggleable__control:checked~label.sk-toggleable__label-arrow:before {content: \"▾\";}#sk-container-id-1 div.sk-estimator input.sk-toggleable__control:checked~label.sk-toggleable__label {background-color: #d4ebff;}#sk-container-id-1 div.sk-label input.sk-toggleable__control:checked~label.sk-toggleable__label {background-color: #d4ebff;}#sk-container-id-1 input.sk-hidden--visually {border: 0;clip: rect(1px 1px 1px 1px);clip: rect(1px, 1px, 1px, 1px);height: 1px;margin: -1px;overflow: hidden;padding: 0;position: absolute;width: 1px;}#sk-container-id-1 div.sk-estimator {font-family: monospace;background-color: #f0f8ff;border: 1px dotted black;border-radius: 0.25em;box-sizing: border-box;margin-bottom: 0.5em;}#sk-container-id-1 div.sk-estimator:hover {background-color: #d4ebff;}#sk-container-id-1 div.sk-parallel-item::after {content: \"\";width: 100%;border-bottom: 1px solid gray;flex-grow: 1;}#sk-container-id-1 div.sk-label:hover label.sk-toggleable__label {background-color: #d4ebff;}#sk-container-id-1 div.sk-serial::before {content: \"\";position: absolute;border-left: 1px solid gray;box-sizing: border-box;top: 0;bottom: 0;left: 50%;z-index: 0;}#sk-container-id-1 div.sk-serial {display: flex;flex-direction: column;align-items: center;background-color: white;padding-right: 0.2em;padding-left: 0.2em;position: relative;}#sk-container-id-1 div.sk-item {position: relative;z-index: 1;}#sk-container-id-1 div.sk-parallel {display: flex;align-items: stretch;justify-content: center;background-color: white;position: relative;}#sk-container-id-1 div.sk-item::before, #sk-container-id-1 div.sk-parallel-item::before {content: \"\";position: absolute;border-left: 1px solid gray;box-sizing: border-box;top: 0;bottom: 0;left: 50%;z-index: -1;}#sk-container-id-1 div.sk-parallel-item {display: flex;flex-direction: column;z-index: 1;position: relative;background-color: white;}#sk-container-id-1 div.sk-parallel-item:first-child::after {align-self: flex-end;width: 50%;}#sk-container-id-1 div.sk-parallel-item:last-child::after {align-self: flex-start;width: 50%;}#sk-container-id-1 div.sk-parallel-item:only-child::after {width: 0;}#sk-container-id-1 div.sk-dashed-wrapped {border: 1px dashed gray;margin: 0 0.4em 0.5em 0.4em;box-sizing: border-box;padding-bottom: 0.4em;background-color: white;}#sk-container-id-1 div.sk-label label {font-family: monospace;font-weight: bold;display: inline-block;line-height: 1.2em;}#sk-container-id-1 div.sk-label-container {text-align: center;}#sk-container-id-1 div.sk-container {/* jupyter's `normalize.less` sets `[hidden] { display: none; }` but bootstrap.min.css set `[hidden] { display: none !important; }` so we also need the `!important` here to be able to override the default hidden behavior on the sphinx rendered scikit-learn.org. See: https://github.com/scikit-learn/scikit-learn/issues/21755 */display: inline-block !important;position: relative;}#sk-container-id-1 div.sk-text-repr-fallback {display: none;}</style><div id=\"sk-container-id-1\" class=\"sk-top-container\"><div class=\"sk-text-repr-fallback\"><pre>RandomForestClassifier(class_weight=&#x27;balanced&#x27;, n_jobs=-1, random_state=42)</pre><b>In a Jupyter environment, please rerun this cell to show the HTML representation or trust the notebook. <br />On GitHub, the HTML representation is unable to render, please try loading this page with nbviewer.org.</b></div><div class=\"sk-container\" hidden><div class=\"sk-item\"><div class=\"sk-estimator sk-toggleable\"><input class=\"sk-toggleable__control sk-hidden--visually\" id=\"sk-estimator-id-1\" type=\"checkbox\" checked><label for=\"sk-estimator-id-1\" class=\"sk-toggleable__label sk-toggleable__label-arrow\">RandomForestClassifier</label><div class=\"sk-toggleable__content\"><pre>RandomForestClassifier(class_weight=&#x27;balanced&#x27;, n_jobs=-1, random_state=42)</pre></div></div></div></div></div>"
      ],
      "text/plain": [
       "RandomForestClassifier(class_weight='balanced', n_jobs=-1, random_state=42)"
      ]
     },
     "execution_count": 7,
     "metadata": {},
     "output_type": "execute_result"
    }
   ],
   "source": [
    "X_train_scaled = pipeline.scaler.fit_transform(X_train)\n",
    "X_test_scaled = pipeline.scaler.transform(X_test)\n",
    "model = RandomForestClassifier(n_estimators=100, random_state=42, n_jobs=-1, class_weight='balanced') \n",
    "model.fit(X_train_scaled, y_train)"
   ]
  },
  {
   "cell_type": "code",
   "execution_count": 8,
   "id": "343a10be",
   "metadata": {},
   "outputs": [
    {
     "data": {
      "text/plain": [
       "0.958139534883721"
      ]
     },
     "execution_count": 8,
     "metadata": {},
     "output_type": "execute_result"
    }
   ],
   "source": [
    "y_pred = model.predict(X_test_scaled)\n",
    "accuracy = accuracy_score(y_test, y_pred)\n",
    "accuracy"
   ]
  },
  {
   "cell_type": "code",
   "execution_count": 9,
   "id": "70b8cd21",
   "metadata": {},
   "outputs": [
    {
     "data": {
      "text/plain": [
       "array([0.01939531, 0.01674688, 0.02532601, 0.01412283, 0.01207611,\n",
       "       0.01187328, 0.00497354, 0.01406836, 0.01530284, 0.01336762,\n",
       "       0.01638233, 0.01081653, 0.02333796, 0.00486421, 0.00514108,\n",
       "       0.03700477, 0.00945095, 0.01926626, 0.0152858 , 0.01272898,\n",
       "       0.02906627, 0.01211069, 0.02085837, 0.01748873, 0.01861456,\n",
       "       0.01959155, 0.02094841, 0.00898435, 0.00543902, 0.00356334,\n",
       "       0.00527448, 0.00352329, 0.0056103 , 0.00514248, 0.00870852,\n",
       "       0.00411157, 0.00553634, 0.00417326, 0.00989516, 0.00776701,\n",
       "       0.01028733, 0.01600052, 0.0059583 , 0.00670129, 0.00454205,\n",
       "       0.00337505, 0.00972717, 0.00346109, 0.00722891, 0.01047418,\n",
       "       0.00435415, 0.00363649, 0.01213034, 0.00360963, 0.02623431,\n",
       "       0.00453305, 0.00716646, 0.00583696, 0.00538897, 0.00738153,\n",
       "       0.00870233, 0.01105549, 0.00655309, 0.00939784, 0.00829943,\n",
       "       0.01018457, 0.00515609, 0.00245233, 0.00332996, 0.00331885,\n",
       "       0.00227121, 0.00255425, 0.00178348, 0.00229653, 0.00183614,\n",
       "       0.00269256, 0.00221131, 0.00256454, 0.0080326 , 0.00318821,\n",
       "       0.00365117, 0.00199863, 0.00298731, 0.00296644, 0.00402579,\n",
       "       0.00273471, 0.00248495, 0.00220431, 0.00267042, 0.00226826,\n",
       "       0.00198638, 0.00510805, 0.00181421, 0.00256353, 0.00126069,\n",
       "       0.00227003, 0.00265815, 0.00159673, 0.00130409, 0.00146423,\n",
       "       0.00156148, 0.00151003, 0.00158783, 0.00111821, 0.0042741 ,\n",
       "       0.0019579 , 0.00280811, 0.00181919, 0.00211564, 0.00217892,\n",
       "       0.00170208, 0.00161193, 0.00189137, 0.00132893, 0.0017901 ,\n",
       "       0.0015479 , 0.00165855, 0.00959018, 0.00333205, 0.00354696,\n",
       "       0.00318474, 0.00139666, 0.00172487, 0.0016867 , 0.00180421,\n",
       "       0.0024497 , 0.00199682, 0.00139715, 0.0017781 , 0.00168082,\n",
       "       0.0055883 , 0.00216937, 0.00455911, 0.00250064, 0.00294832,\n",
       "       0.00242515, 0.0022367 , 0.0018325 , 0.00225736, 0.00280284,\n",
       "       0.00256509, 0.00168456, 0.00237931, 0.00390515, 0.00198398,\n",
       "       0.00245018, 0.00126407, 0.00203049, 0.00155585, 0.00123065,\n",
       "       0.0016562 , 0.00209385, 0.00222771, 0.00180471, 0.00136149,\n",
       "       0.00115114, 0.00242574, 0.0013409 , 0.0030662 , 0.00176067,\n",
       "       0.00168395, 0.00167547, 0.00140517, 0.00158489, 0.00141162,\n",
       "       0.00241931, 0.00179376, 0.0014065 , 0.00135848, 0.01319737,\n",
       "       0.01090798])"
      ]
     },
     "execution_count": 9,
     "metadata": {},
     "output_type": "execute_result"
    }
   ],
   "source": [
    "importances = model.feature_importances_\n",
    "importances"
   ]
  },
  {
   "cell_type": "code",
   "execution_count": null,
   "id": "f7dcbeb0",
   "metadata": {},
   "outputs": [],
   "source": []
  }
 ],
 "metadata": {
  "kernelspec": {
   "display_name": "teste",
   "language": "python",
   "name": "teste"
  },
  "language_info": {
   "codemirror_mode": {
    "name": "ipython",
    "version": 3
   },
   "file_extension": ".py",
   "mimetype": "text/x-python",
   "name": "python",
   "nbconvert_exporter": "python",
   "pygments_lexer": "ipython3",
   "version": "3.10.13"
  }
 },
 "nbformat": 4,
 "nbformat_minor": 5
}
